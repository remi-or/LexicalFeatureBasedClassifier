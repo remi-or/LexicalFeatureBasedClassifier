{
 "cells": [
  {
   "cell_type": "code",
   "execution_count": 1,
   "metadata": {},
   "outputs": [],
   "source": [
    "## Imports \n",
    "\n",
    "# General\n",
    "import os\n",
    "import pandas as pd\n",
    "import random as rd\n",
    "from tqdm.auto import tqdm\n",
    "import spacy\n",
    "\n",
    "# Local\n",
    "\n",
    "# Redundency to avoid going higher than the repo level\n",
    "while 'curate-108.ipynb' in os.listdir():\n",
    "    os.chdir('..')\n",
    "from FeatureExtractor import FeatureExtractor\n",
    "from FeatureExtractor.grammar_rules import preload_lexique3_freq_table"
   ]
  },
  {
   "cell_type": "code",
   "execution_count": 2,
   "metadata": {},
   "outputs": [
    {
     "name": "stderr",
     "output_type": "stream",
     "text": [
      "C:\\Users\\meri2\\.conda\\envs\\rorch\\lib\\site-packages\\spacy\\util.py:833: UserWarning: [W095] Model 'fr_core_news_md' (3.1.0) was trained with spaCy v3.1 and may not be 100% compatible with the current version (3.2.0). If you see errors or degraded performance, download a newer compatible model or retrain your custom model with the current spaCy version. For more details and available updates, run: python -m spacy validate\n",
      "  warnings.warn(warn_msg)\n"
     ]
    }
   ],
   "source": [
    "nlp = spacy.load('fr_core_news_md')\n",
    "freq_table = preload_lexique3_freq_table()"
   ]
  },
  {
   "cell_type": "code",
   "execution_count": 3,
   "metadata": {},
   "outputs": [
    {
     "name": "stdout",
     "output_type": "stream",
     "text": [
      "Processing: 0.04939629999999973\n",
      "Morphs: 0.0005790999999994995\n",
      "Lemmas: 0.0005945999999994456\n",
      "Freqs: 0.0002761000000006675\n",
      "NER: 0.0001346000000008729\n"
     ]
    }
   ],
   "source": [
    "X = FeatureExtractor(\n",
    "    document = \"\"\"\n",
    "    Bientôt nous plongerons dans les froides ténèbres;\n",
    "    Adieu, vive clarté de nos étés trop courts!\n",
    "    J'entends déjà tomber avec des chocs funèbres\n",
    "    Le bois retentissant sur le pavé des cours.\n",
    "    Tout l'hiver va rentrer dans mon être: colère,\n",
    "    Haine, frissons, horreur, labeur dur et forcé,\n",
    "    Et, comme le soleil dans son enfer polaire,\n",
    "    Mon coeur ne sera plus qu'un bloc rouge et glacé.\n",
    "    J'écoute en frémissant chaque bûche qui tombe;\n",
    "    L'échafaud qu'on bâtit n'a pas d'écho plus sourd.\n",
    "    Mon esprit est pareil à la tour qui succombe\n",
    "    Sous les coups du bélier infatigable et lourd.\n",
    "    II me semble, bercé par ce choc monotone,\n",
    "    Qu'on cloue en grande hâte un cercueil quelque part.\n",
    "    Pour qui? — C'était hier l'été; voici l'automne!\n",
    "    Ce bruit mystérieux sonne comme un départ.\"\"\",\n",
    "    nlp=nlp, \n",
    "    restricted=True,\n",
    "    time_it=True,\n",
    "    freq_table=freq_table,\n",
    ")"
   ]
  },
  {
   "cell_type": "code",
   "execution_count": null,
   "metadata": {},
   "outputs": [],
   "source": []
  }
 ],
 "metadata": {
  "interpreter": {
   "hash": "07d2458d2d97685183d3136e32d35855b2fab2257fccd11b49fd0462e7835ec0"
  },
  "kernelspec": {
   "display_name": "Python 3.9.7 64-bit ('rorch': conda)",
   "language": "python",
   "name": "python3"
  },
  "language_info": {
   "codemirror_mode": {
    "name": "ipython",
    "version": 3
   },
   "file_extension": ".py",
   "mimetype": "text/x-python",
   "name": "python",
   "nbconvert_exporter": "python",
   "pygments_lexer": "ipython3",
   "version": "3.9.7"
  },
  "orig_nbformat": 4
 },
 "nbformat": 4,
 "nbformat_minor": 2
}
